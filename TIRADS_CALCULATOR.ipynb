{
  "nbformat": 4,
  "nbformat_minor": 0,
  "metadata": {
    "colab": {
      "name": "TIRADS CALCULATOR.ipynb",
      "provenance": [],
      "toc_visible": true,
      "authorship_tag": "ABX9TyNqCVKJWTL41FVaPWYb67iw",
      "include_colab_link": true
    },
    "kernelspec": {
      "name": "python3",
      "display_name": "Python 3"
    },
    "language_info": {
      "name": "python"
    }
  },
  "cells": [
    {
      "cell_type": "markdown",
      "metadata": {
        "id": "view-in-github",
        "colab_type": "text"
      },
      "source": [
        "<a href=\"https://colab.research.google.com/github/RadEdje/colab/blob/main/TIRADS_CALCULATOR.ipynb\" target=\"_parent\"><img src=\"https://colab.research.google.com/assets/colab-badge.svg\" alt=\"Open In Colab\"/></a>"
      ]
    },
    {
      "cell_type": "markdown",
      "metadata": {
        "id": "vkLh04SpE4ju"
      },
      "source": [
        "#TIRADS CALCULATOR by RADEDJE\n"
      ]
    },
    {
      "cell_type": "code",
      "metadata": {
        "id": "8_PGxWRMEs-Q"
      },
      "source": [
        "#@title ENTER OPTIONS\n",
        "\n",
        "COMPOSITION = blank #@param [\"blank\",\"Cystic or almost completely cystic 0 points\",\"spongiform 0 points\",\"Mixed cystic and solid 1 point\",\"Solid or almost completely solid 2 points\"]\n",
        "\n",
        "\n",
        "\n",
        "ECHOGENICITY = blank #@param [\"blank\",\"Anechoic 0 points\",\"Hyperechoic or isoechoic 1 point\",\"Hypoechoic 2 points\",\"Very hypoechoic 3 points\"]\n",
        "\n",
        "\n",
        "\n",
        "SHAPE = blank #@param [\"blank\",\"Wider-than-tall 0 points\",\"Taller-than-wide 3 points\"]\n",
        "\n",
        "\n",
        "\n",
        "MARGIN = blank #@param [\"blank\",\"Smooth 0 points\",\"ill-defined 0 points\",\"Lobulated or irregular 2 points\",\"Extra-thyroidal extension 3 points\"]\n",
        "\n",
        "\n",
        "ECHOGENIC FOCI = blank #@param [\"blank\",\"None or large comet-tail artifacts 0 points\",\"Macrocalcifications 1 point\",\"Peripheral (rim) calcifications 2 points\",\"Punctate echogenic foci 3 points\"]"
      ],
      "execution_count": null,
      "outputs": []
    }
  ]
}