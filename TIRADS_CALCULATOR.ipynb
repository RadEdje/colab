{
  "nbformat": 4,
  "nbformat_minor": 0,
  "metadata": {
    "colab": {
      "name": "TIRADS CALCULATOR.ipynb",
      "provenance": [],
      "collapsed_sections": [],
      "authorship_tag": "ABX9TyOOKMlcAWh0MUHNbXm+rTck",
      "include_colab_link": true
    },
    "kernelspec": {
      "name": "python3",
      "display_name": "Python 3"
    },
    "language_info": {
      "name": "python"
    }
  },
  "cells": [
    {
      "cell_type": "markdown",
      "metadata": {
        "id": "view-in-github",
        "colab_type": "text"
      },
      "source": [
        "<a href=\"https://colab.research.google.com/github/RadEdje/colab/blob/main/TIRADS_CALCULATOR.ipynb\" target=\"_parent\"><img src=\"https://colab.research.google.com/assets/colab-badge.svg\" alt=\"Open In Colab\"/></a>"
      ]
    },
    {
      "cell_type": "markdown",
      "metadata": {
        "id": "vkLh04SpE4ju"
      },
      "source": [
        "#TIRADS CALCULATOR by RADEDJE\n"
      ]
    },
    {
      "cell_type": "code",
      "metadata": {
        "colab": {
          "base_uri": "https://localhost:8080/",
          "height": 246
        },
        "cellView": "form",
        "id": "8_PGxWRMEs-Q",
        "outputId": "262201bc-af7f-479c-cc08-57dad7d0a198"
      },
      "source": [
        "#@title ENTER OPTIONS { run: \"auto\", vertical-output: true }\n",
        "\n",
        "COMPOSITION = \"blank\" #@param [\"blank\",\"Cystic or almost completely cystic 0 points\",\"spongiform 0 points\",\"Mixed cystic and solid 1 point\",\"Solid or almost completely solid 2 points\"]\n",
        "\n",
        "if COMPOSITION == \"blank\":\n",
        "  c = \"error\"\n",
        "elif COMPOSITION == \"Cystic or almost completely cystic 0 points\":\n",
        "  c = 0\n",
        "elif COMPOSITION == \"spongiform 0 points\":\n",
        "  c = 0\n",
        "elif COMPOSITION == \"Mixed cystic and solid 1 point\":\n",
        "  c = 1\n",
        "elif COMPOSITION == \"Solid or almost completely solid 2 points\":\n",
        "  c = 2\n",
        "\n",
        "\n",
        "ECHOGENICITY = \"blank\" #@param [\"blank\",\"Anechoic 0 points\",\"Hyperechoic or isoechoic 1 point\",\"Hypoechoic 2 points\",\"Very hypoechoic 3 points\"] {type:\"string\"}\n",
        "\n",
        "if ECHOGENICITY == \"blank\":\n",
        "  e = \"error\"\n",
        "elif ECHOGENICITY == \"Anechoic 0 points\":\n",
        "  e = 0\n",
        "elif ECHOGENICITY == \"Hyperechoic or isoechoic 1 point\":\n",
        "  e = 1\n",
        "elif ECHOGENICITY == \"Hypoechoic 2 points\":\n",
        "  e = 2\n",
        "elif ECHOGENICITY == \"Very hypoechoic 3 points\":\n",
        "  e = 3\n",
        "\n",
        "\n",
        "SHAPE = \"blank\" #@param [\"blank\",\"Wider-than-tall 0 points\",\"Taller-than-wide 3 points\"]\n",
        "\n",
        "if SHAPE == \"blank\":\n",
        "  s = \"error\"\n",
        "elif SHAPE == \"Wider-than-tall 0 points\":\n",
        "  s = 0\n",
        "elif SHAPE == \"Taller-than-wide 3 points\":\n",
        "  s = 3\n",
        "\n",
        "\n",
        "MARGIN = \"blank\" #@param [\"blank\",\"Smooth 0 points\",\"ill-defined 0 points\",\"Lobulated or irregular 2 points\",\"Extra-thyroidal extension 3 points\"]\n",
        "\n",
        "if MARGIN == \"blank\":\n",
        "  m = \"error\"\n",
        "elif MARGIN == \"Smooth 0 points\":\n",
        "  m = 0\n",
        "elif MARGIN == \"Ill-defined 0 points\":\n",
        "  m = 0\n",
        "elif MARGIN == \"Lobulated or irregular 2 points\":\n",
        "  m = 2\n",
        "elif MARGIN == \"Extra-thyroidal extension 3 points\":\n",
        "  m = 3\n",
        "\n",
        "\n",
        "\n",
        "ECHOGENIC_FOCI = \"blank\" #@param [\"blank\",\"None or large comet-tail artifacts 0 points\",\"Macrocalcifications 1 point\",\"Peripheral (rim) calcifications 2 points\",\"Punctate echogenic foci 3 points\"]\n",
        "\n",
        "if ECHOGENIC_FOCI == \"blank\":\n",
        "  ef = \"error\"\n",
        "elif ECHOGENIC_FOCI == \"None or large comet-tail artifacts 0 points\":\n",
        "  ef = 0\n",
        "elif ECHOGENIC_FOCI == \"Macrocalcifications 1 point\":\n",
        "  ef = 1\n",
        "elif ECHOGENIC_FOCI == \"Peripheral (rim) calcifications 2 points\":\n",
        "  ef = 2\n",
        "elif ECHOGENIC_FOCI == \"Punctate echogenic foci 3 points\":\n",
        "  ef = 3\n",
        "\n",
        "tirads_score = c+e+s+m+ef\n",
        "\n",
        "# RESET = False #@param {type:\"boolean\"}\n",
        "\n",
        "\n",
        "# if RESET == True:\n",
        "#   COMPOSITION = ECHOGENICITY = SHAPE = ECHOGENIC_FOCI = \"blank\"\n",
        "#   tirads_score = 0\n",
        "\n",
        "\n",
        "if tirads_score in range(0,2):\n",
        "  TIRADS = \"TIRADS 1\"\n",
        "elif tirads_score in range(2,3):\n",
        "  TIRADS = \"TIRADS 2\"\n",
        "elif tirads_score in range(3,4):\n",
        "  TIRADS = \"TIRADS 3\" \n",
        "elif tirads_score in range(4,7):\n",
        "  TIRADS = \"TIRADS 4\" \n",
        "elif tirads_score >=7:\n",
        "  TIRADS = \"TIRADS 5\" \n",
        "\n",
        "\n",
        "print (f\"TIRADS TOTAL SCORE is {tirads_score} at {TIRADS} \")"
      ],
      "execution_count": 43,
      "outputs": [
        {
          "output_type": "error",
          "ename": "TypeError",
          "evalue": "ignored",
          "traceback": [
            "\u001b[0;31m---------------------------------------------------------------------------\u001b[0m",
            "\u001b[0;31mTypeError\u001b[0m                                 Traceback (most recent call last)",
            "\u001b[0;32m<ipython-input-43-2cb73de7d364>\u001b[0m in \u001b[0;36m<module>\u001b[0;34m()\u001b[0m\n\u001b[1;32m     85\u001b[0m \u001b[0;32melif\u001b[0m \u001b[0mtirads_score\u001b[0m \u001b[0;32min\u001b[0m \u001b[0mrange\u001b[0m\u001b[0;34m(\u001b[0m\u001b[0;36m4\u001b[0m\u001b[0;34m,\u001b[0m\u001b[0;36m7\u001b[0m\u001b[0;34m)\u001b[0m\u001b[0;34m:\u001b[0m\u001b[0;34m\u001b[0m\u001b[0;34m\u001b[0m\u001b[0m\n\u001b[1;32m     86\u001b[0m   \u001b[0mTIRADS\u001b[0m \u001b[0;34m=\u001b[0m \u001b[0;34m\"TIRADS 4\"\u001b[0m\u001b[0;34m\u001b[0m\u001b[0;34m\u001b[0m\u001b[0m\n\u001b[0;32m---> 87\u001b[0;31m \u001b[0;32melif\u001b[0m \u001b[0mtirads_score\u001b[0m \u001b[0;34m>=\u001b[0m\u001b[0;36m7\u001b[0m\u001b[0;34m:\u001b[0m\u001b[0;34m\u001b[0m\u001b[0;34m\u001b[0m\u001b[0m\n\u001b[0m\u001b[1;32m     88\u001b[0m   \u001b[0mTIRADS\u001b[0m \u001b[0;34m=\u001b[0m \u001b[0;34m\"TIRADS 5\"\u001b[0m\u001b[0;34m\u001b[0m\u001b[0;34m\u001b[0m\u001b[0m\n\u001b[1;32m     89\u001b[0m \u001b[0;34m\u001b[0m\u001b[0m\n",
            "\u001b[0;31mTypeError\u001b[0m: '>=' not supported between instances of 'str' and 'int'"
          ]
        }
      ]
    }
  ]
}